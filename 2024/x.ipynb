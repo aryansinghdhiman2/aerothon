{
 "cells": [
  {
   "cell_type": "code",
   "execution_count": 2,
   "metadata": {},
   "outputs": [
    {
     "name": "stderr",
     "output_type": "stream",
     "text": [
      "c:\\Users\\91798\\anaconda3\\envs\\CRAFTenv\\Lib\\site-packages\\tqdm\\auto.py:21: TqdmWarning: IProgress not found. Please update jupyter and ipywidgets. See https://ipywidgets.readthedocs.io/en/stable/user_install.html\n",
      "  from .autonotebook import tqdm as notebook_tqdm\n"
     ]
    }
   ],
   "source": [
    "from transformers import AutoImageProcessor, AutoModelForObjectDetection\n",
    "\n",
    "processor = AutoImageProcessor.from_pretrained(\"sansh2356/DETR_finetune\")\n",
    "model = AutoModelForObjectDetection.from_pretrained(\"sansh2356/DETR_finetune\")"
   ]
  },
  {
   "cell_type": "code",
   "execution_count": 3,
   "metadata": {},
   "outputs": [
    {
     "name": "stdout",
     "output_type": "stream",
     "text": [
      "<class 'dict'> {'scores': tensor([0.9112], grad_fn=<IndexBackward0>), 'labels': tensor([1]), 'boxes': tensor([[ 857.2190,  493.8048, 1017.9589,  640.5778]],\n",
      "       grad_fn=<IndexBackward0>)}\n",
      "857.218994140625\n",
      "493.8048400878906\n",
      "1017.9588623046875\n",
      "640.5777587890625\n"
     ]
    }
   ],
   "source": [
    "from transformers import DetrImageProcessor, DetrForObjectDetection\n",
    "import torch\n",
    "from PIL import Image, ImageDraw, ImageFont\n",
    "\n",
    "image_path = \"./Screenshot (760).png\"\n",
    "image = Image.open(image_path).convert(\"RGB\")\n",
    "\n",
    "\n",
    "inputs = processor(images=image, return_tensors=\"pt\")\n",
    "outputs = model(**inputs)\n",
    "\n",
    "target_sizes = torch.tensor([image.size[::-1]])\n",
    "results = processor.post_process_object_detection(outputs, target_sizes=target_sizes, threshold=0.9)[0]\n",
    "print(type(results),results)\n",
    "draw = ImageDraw.Draw(image)\n",
    "font = ImageFont.load_default()  \n",
    "\n",
    "\n",
    "for i in results[\"boxes\"]:\n",
    " for j in i:\n",
    "    print(float(j))\n",
    "\n",
    "for score, label, box in zip(results[\"scores\"], results[\"labels\"], results[\"boxes\"]):\n",
    "    box = [round(i, 2) for i in box.tolist()]\n",
    "    \n",
    "    draw.rectangle(box, outline=\"red\", width=3)\n",
    "    \n",
    "    label_text = f\"{model.config.id2label[label.item()]}: {round(score.item(), 3)}\"\n",
    "    \n",
    "    draw.text((box[0], box[1] - 10), label_text, fill=\"red\", font=font)\n",
    "\n",
    "image.show()  \n",
    "image.save(\"./test/annotated_image.png\") \n"
   ]
  },
  {
   "cell_type": "code",
   "execution_count": 5,
   "metadata": {},
   "outputs": [
    {
     "name": "stdout",
     "output_type": "stream",
     "text": [
      "Frame 0 processed.\n",
      "Frame 1 processed.\n",
      "Frame 2 processed.\n",
      "Frame 3 processed.\n",
      "Frame 4 processed.\n",
      "Frame 5 processed.\n",
      "Frame 6 processed.\n",
      "Frame 7 processed.\n",
      "Frame 8 processed.\n",
      "Frame 9 processed.\n",
      "Frame 10 processed.\n",
      "Video saved as ./rpi_capture/capture_1.mp4\n"
     ]
    }
   ],
   "source": [
    "import os\n",
    "import cv2\n",
    "from PIL import Image, ImageDraw, ImageFont\n",
    "import torch\n",
    "import json\n",
    "import numpy as np\n",
    "import time\n",
    "\n",
    "def process_video(video_path, output_video_path):\n",
    "    cap = cv2.VideoCapture(video_path)\n",
    "    if not cap.isOpened():\n",
    "        print(\"Error: Unable to open video file.\")\n",
    "        return\n",
    "\n",
    "    width = int(cap.get(cv2.CAP_PROP_FRAME_WIDTH))\n",
    "    height = int(cap.get(cv2.CAP_PROP_FRAME_HEIGHT))\n",
    "    fps = cap.get(cv2.CAP_PROP_FPS)\n",
    "\n",
    "    fourcc = cv2.VideoWriter_fourcc(*'mp4v')  \n",
    "    out = cv2.VideoWriter(output_video_path, fourcc, fps, (width, height))\n",
    "\n",
    "    frame_count = 0\n",
    "    try:\n",
    "        while True:\n",
    "            ret, frame = cap.read()\n",
    "            if not ret:\n",
    "                break\n",
    "\n",
    "            image = Image.fromarray(cv2.cvtColor(frame, cv2.COLOR_BGR2RGB))\n",
    "\n",
    "            inputs = processor(images=image, return_tensors=\"pt\")\n",
    "            outputs = model(**inputs)\n",
    "\n",
    "            target_sizes = torch.tensor([image.size[::-1]])\n",
    "            results = processor.post_process_object_detection(outputs, target_sizes=target_sizes, threshold=0.9)[0]\n",
    "\n",
    "            draw = ImageDraw.Draw(image)\n",
    "            font = ImageFont.load_default()\n",
    "            with open(\"./output.jsonl\", \"a\") as outfile:\n",
    "                    if len(results[\"scores\"]) == 0:\n",
    "                        json.dump({\n",
    "                            \"box\": \"None\",\n",
    "                            \"frame_no\": frame_count,\n",
    "                            \"video_name\": video_path,\n",
    "                            \"label\": \"None\",\n",
    "                            \"predicted_confidence_score\": \"None\"\n",
    "                        }, outfile)\n",
    "                        outfile.write('\\n')\n",
    "\n",
    "                    for score, label, box in zip(results[\"scores\"], results[\"labels\"], results[\"boxes\"]):\n",
    "                        box = [round(i, 2) for i in box.tolist()]\n",
    "                        predicted_label = label.item()\n",
    "                        predicted_confidence_score = score.item()\n",
    "                        json.dump({\n",
    "                            \"box\": box,\n",
    "                            \"frame_no\": frame_count,\n",
    "                            \"video_name\": video_path,\n",
    "                            \"label\": predicted_label,\n",
    "                            \"predicted_confidence_score\": predicted_confidence_score\n",
    "                        }, outfile)\n",
    "                        outfile.write('\\n')\n",
    "\n",
    "            for score, label, box in zip(results[\"scores\"], results[\"labels\"], results[\"boxes\"]):\n",
    "                box = [round(i, 2) for i in box.tolist()]\n",
    "                draw.rectangle(box, outline=\"red\", width=3)\n",
    "                label_text = f\"{model.config.id2label[label.item()]}: {round(score.item(), 3)}\"\n",
    "                draw.text((box[0], box[1] - 10), label_text, fill=\"red\", font=font)\n",
    "\n",
    "            frame_with_detections = cv2.cvtColor(np.array(image), cv2.COLOR_RGB2BGR)\n",
    "            cv2.imshow('Processed Video', frame_with_detections)\n",
    "\n",
    "            out.write(frame_with_detections)\n",
    "            print(f\"Frame {frame_count} processed.\")\n",
    "            frame_count += 1\n",
    "\n",
    "            if cv2.waitKey(1) & 0xFF == ord('q'):\n",
    "                break\n",
    "\n",
    "    finally:\n",
    "        cap.release()\n",
    "        out.release()\n",
    "        cv2.destroyAllWindows()\n",
    "        print(f\"Video saved as {output_video_path}\")\n",
    "\n",
    "process_video('http://192.168.1.13:8000/stream.mjpg', \"./rpi_capture/capture_1.mp4\")\n"
   ]
  },
  {
   "cell_type": "code",
   "execution_count": null,
   "metadata": {},
   "outputs": [],
   "source": []
  }
 ],
 "metadata": {
  "kernelspec": {
   "display_name": "CRAFTenv",
   "language": "python",
   "name": "python3"
  },
  "language_info": {
   "codemirror_mode": {
    "name": "ipython",
    "version": 3
   },
   "file_extension": ".py",
   "mimetype": "text/x-python",
   "name": "python",
   "nbconvert_exporter": "python",
   "pygments_lexer": "ipython3",
   "version": "3.12.5"
  },
  "orig_nbformat": 4,
  "vscode": {
   "interpreter": {
    "hash": "855a5b7deeb588c65e062fd5444f6ada975a26115269bbbd0dcf2106c846351e"
   }
  }
 },
 "nbformat": 4,
 "nbformat_minor": 2
}
